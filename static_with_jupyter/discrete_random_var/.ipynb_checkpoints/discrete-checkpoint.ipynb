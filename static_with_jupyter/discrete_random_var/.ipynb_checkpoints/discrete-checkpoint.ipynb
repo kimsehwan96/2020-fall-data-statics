{
 "cells": [
  {
   "cell_type": "markdown",
   "metadata": {},
   "source": [
    "# 1차원 이산형 확률 변수\n",
    "\n",
    "- 확률 변수 X가 취할 수 있는 값의 집합이다.\n",
    "- X가 xk라는 값을 취하는 확률은 P(X = xk) = pk(k = 1,2,3...)\n",
    "\n",
    "- 확률 질량함수\n",
    "    - f(x) = P(X = x)\n",
    "\n",
    "- 불공정한 주사위의 확률 분포"
   ]
  },
  {
   "cell_type": "code",
   "execution_count": 1,
   "metadata": {},
   "outputs": [],
   "source": [
    "# 확률 변수가 취할수 있는 값의 집합 x_set\n",
    "import numpy as np\n",
    "x_set = np.array([1,2,3,4,5,6])"
   ]
  },
  {
   "cell_type": "markdown",
   "metadata": {},
   "source": [
    "- x_set에 대응하는 확률\n",
    "\n",
    "|눈|1|2|3|4|5|6|\n",
    "|-|-|-|-|-|-|-|\n",
    "|확률|1/21|2/21|3/21|4/21|5/21|6/21|"
   ]
  },
  {
   "cell_type": "code",
   "execution_count": 3,
   "metadata": {},
   "outputs": [],
   "source": [
    "def f(x):\n",
    "    if x in x_set:\n",
    "        return x/21\n",
    "    else:\n",
    "        return 0"
   ]
  },
  {
   "cell_type": "code",
   "execution_count": 4,
   "metadata": {},
   "outputs": [],
   "source": [
    "x = [x_set, f]"
   ]
  },
  {
   "cell_type": "code",
   "execution_count": 5,
   "metadata": {},
   "outputs": [
    {
     "data": {
      "text/plain": [
       "{1: 0.047619047619047616,\n",
       " 2: 0.09523809523809523,\n",
       " 3: 0.14285714285714285,\n",
       " 4: 0.19047619047619047,\n",
       " 5: 0.23809523809523808,\n",
       " 6: 0.2857142857142857}"
      ]
     },
     "execution_count": 5,
     "metadata": {},
     "output_type": "execute_result"
    }
   ],
   "source": [
    "prob = np.array([f(x_k) for x_k in x_set])\n",
    "dict(zip(x_set, prob)) #x_K와 p_k의 대응을 사전식으로 표현하기"
   ]
  },
  {
   "cell_type": "code",
   "execution_count": 6,
   "metadata": {},
   "outputs": [],
   "source": [
    "from matplotlib import pyplot as plt"
   ]
  },
  {
   "cell_type": "code",
   "execution_count": 8,
   "metadata": {},
   "outputs": [
    {
     "data": {
      "text/plain": [
       "<BarContainer object of 6 artists>"
      ]
     },
     "execution_count": 8,
     "metadata": {},
     "output_type": "execute_result"
    },
    {
     "data": {
      "image/png": "[encoded data removed]",
      "text/plain": [
       "<Figure size 432x288 with 1 Axes>"
      ]
     },
     "metadata": {
      "needs_background": "light"
     },
     "output_type": "display_data"
    }
   ],
   "source": [
    "plt.bar(x_set, prob)"
   ]
  },
  {
   "cell_type": "code",
   "execution_count": 9,
   "metadata": {},
   "outputs": [
    {
     "data": {
      "text/plain": [
       "True"
      ]
     },
     "execution_count": 9,
     "metadata": {},
     "output_type": "execute_result"
    }
   ],
   "source": [
    "np.all(prob>=0)"
   ]
  },
  {
   "cell_type": "code",
   "execution_count": 10,
   "metadata": {},
   "outputs": [
    {
     "data": {
      "text/plain": [
       "0.9999999999999999"
      ]
     },
     "execution_count": 10,
     "metadata": {},
     "output_type": "execute_result"
    }
   ],
   "source": [
    "np.sum(prob)"
   ]
  },
  {
   "cell_type": "markdown",
   "metadata": {},
   "source": [
    "- 누적분포함수 (분포함수) F(x)\n",
    "    - X가 x 이하가 될 때의 확률을 반환하는 함수\n",
    "    - F(x) = P(X<= x)\n",
    "   "
   ]
  },
  {
   "cell_type": "code",
   "execution_count": 13,
   "metadata": {},
   "outputs": [],
   "source": [
    "def F(x):\n",
    "    return np.sum([f(x_k) for x_k in x_set if x_k <= x])\n",
    "#f(x)는 특정 확률변수 x 일 때의 이산 확률 질량 함수\n",
    "# 누적분포함수는 x_k <= x 일때의 모든 확률을 더한 것이기 때문에\n",
    "# 리스트 컴프리헨션 사용해서 구현\n",
    "# [f(x_k) for x_k in x_set if x_k <= x]\n",
    "# x_set에 있는 원소들을 x_K라고 정의하고, x_k <= x 즉 입력받은 x보다 작거나 \n",
    "# 같은 x_k들에 한해서만 f(x_k)를 계산한 리스트 컴프리 헨션\n",
    "# 이 원소들의 값을 np.sum을 떄려버린다."
   ]
  },
  {
   "cell_type": "code",
   "execution_count": 12,
   "metadata": {},
   "outputs": [
    {
     "data": {
      "text/plain": [
       "0.2857142857142857"
      ]
     },
     "execution_count": 12,
     "metadata": {},
     "output_type": "execute_result"
    }
   ],
   "source": [
    "F(3)"
   ]
  },
  {
   "cell_type": "markdown",
   "metadata": {},
   "source": [
    "- 확률 변수의 변환\n",
    "    - 확률변수 X에 2를 곱하고 3을 더한 2X+3도 확률 변수\n",
    "    - 2X+3을 확률변수 Y라고 하면"
   ]
  },
  {
   "cell_type": "code",
   "execution_count": 15,
   "metadata": {},
   "outputs": [
    {
     "data": {
      "text/plain": [
       "{5: 0.047619047619047616,\n",
       " 7: 0.09523809523809523,\n",
       " 9: 0.14285714285714285,\n",
       " 11: 0.19047619047619047,\n",
       " 13: 0.23809523809523808,\n",
       " 15: 0.2857142857142857}"
      ]
     },
     "execution_count": 15,
     "metadata": {},
     "output_type": "execute_result"
    }
   ],
   "source": [
    "y_set = np.array([2* x_k + 3 for x_k in x_set])\n",
    "prob = np.array([f(x_k) for x_k in x_set])\n",
    "dict(zip(y_set, prob))"
   ]
  },
  {
   "cell_type": "markdown",
   "metadata": {},
   "source": [
    "- 기대값 = 확률변수의 평균\n",
    "    - 확률 변수를 몇 번이나(무제한) 시행하여 얻어진 실현값의 평균\n",
    "    - 무제한 실행이 불가능 하므로, 확률 변수가 취할 수 있는 값과 확률의 곱의 총합"
   ]
  },
  {
   "cell_type": "code",
   "execution_count": 16,
   "metadata": {},
   "outputs": [
    {
     "data": {
      "text/plain": [
       "4.333333333333333"
      ]
     },
     "execution_count": 16,
     "metadata": {},
     "output_type": "execute_result"
    }
   ],
   "source": [
    "np.sum([x_k * f(x_k) for x_k in x_set])"
   ]
  },
  {
   "cell_type": "code",
   "execution_count": 17,
   "metadata": {},
   "outputs": [],
   "source": [
    "#각 확률 변수의 값에 따른 확률 * 확률 변수 값"
   ]
  },
  {
   "cell_type": "code",
   "execution_count": 18,
   "metadata": {},
   "outputs": [
    {
     "data": {
      "text/plain": [
       "4.333677"
      ]
     },
     "execution_count": 18,
     "metadata": {},
     "output_type": "execute_result"
    }
   ],
   "source": [
    "sample = np.random.choice(x_set, int(1e6), p=prob)\n",
    "np.mean(sample)"
   ]
  },
  {
   "cell_type": "markdown",
   "metadata": {},
   "source": [
    "- 기대값 = 확률 변수의 평균\n",
    "    - 수식을 기댓값의 함수로 구현\n",
    "- E(g(X)) = 시그마(g(xk)f(xk))"
   ]
  },
  {
   "cell_type": "code",
   "execution_count": 35,
   "metadata": {},
   "outputs": [],
   "source": [
    "def E(X, g=lambda x: x):\n",
    "    x_set, f = X\n",
    "    return np.sum([g(x_k) * f(x_k) for x_k in x_set])"
   ]
  },
  {
   "cell_type": "code",
   "execution_count": 38,
   "metadata": {},
   "outputs": [
    {
     "data": {
      "text/plain": [
       "11.666666666666664"
      ]
     },
     "execution_count": 38,
     "metadata": {},
     "output_type": "execute_result"
    }
   ],
   "source": [
    "E((x_set, f), g=lambda x: 2*x + 3)"
   ]
  },
  {
   "cell_type": "code",
   "execution_count": 21,
   "metadata": {},
   "outputs": [],
   "source": [
    "# g에 아무것도 지정하지 않으면 확률변수 X의 기댓값이 구해짐"
   ]
  },
  {
   "cell_type": "markdown",
   "metadata": {},
   "source": [
    "- 람다함수\n",
    "    - 값을 반환하는 단순한 한 문장짜리의 함수\n",
    "\n",
    "```python3\n",
    "def short_function(x):\n",
    "    return x*2\n",
    "equiv_anon = lambdaa x: x*2\n",
    "\n",
    "def apply_to_list(some_list, f):\n",
    "    return [(f(x) ffor x in some_list]\n",
    "\n",
    "ints = [4, 0, 1, 5, 6]\n",
    "\n",
    "apply_to_list(ints, lambda x: x*2)\n",
    "```"
   ]
  },
  {
   "cell_type": "markdown",
   "metadata": {},
   "source": [
    "- 분산"
   ]
  },
  {
   "cell_type": "code",
   "execution_count": 39,
   "metadata": {
    "scrolled": true
   },
   "outputs": [
    {
     "data": {
      "text/plain": [
       "11.666666666666666"
      ]
     },
     "execution_count": 39,
     "metadata": {},
     "output_type": "execute_result"
    }
   ],
   "source": [
    "2 * E((x_set, f)) + 3"
   ]
  },
  {
   "cell_type": "markdown",
   "metadata": {},
   "source": [
    "- 분산\n",
    "    - V(X) = 시그마(x_k - u)^2 * f(x_k)\n",
    "    - 즉, (확률 변수 - 기댓값)의 제곱 * 확률밀도함수 다"
   ]
  },
  {
   "cell_type": "code",
   "execution_count": 40,
   "metadata": {},
   "outputs": [],
   "source": [
    "mean = E((x_set, f))"
   ]
  },
  {
   "cell_type": "code",
   "execution_count": 43,
   "metadata": {},
   "outputs": [
    {
     "data": {
      "text/plain": [
       "2.2222222222222223"
      ]
     },
     "execution_count": 43,
     "metadata": {},
     "output_type": "execute_result"
    }
   ],
   "source": [
    "np.sum([(x_k-mean)**2 * f(x_k) for x_k in x_set])"
   ]
  },
  {
   "cell_type": "code",
   "execution_count": null,
   "metadata": {},
   "outputs": [],
   "source": []
  }
 ],
 "metadata": {
  "kernelspec": {
   "display_name": "Python 3",
   "language": "python",
   "name": "python3"
  },
  "language_info": {
   "codemirror_mode": {
    "name": "ipython",
    "version": 3
   },
   "file_extension": ".py",
   "mimetype": "text/x-python",
   "name": "python",
   "nbconvert_exporter": "python",
   "pygments_lexer": "ipython3",
   "version": "3.7.4"
  }
 },
 "nbformat": 4,
 "nbformat_minor": 2
}
